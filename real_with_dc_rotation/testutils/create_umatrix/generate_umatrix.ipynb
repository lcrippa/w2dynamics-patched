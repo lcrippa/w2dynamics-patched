{
 "cells": [
  {
   "cell_type": "markdown",
   "id": "8c48fef8-2462-4631-8f21-b41b2fe0991d",
   "metadata": {},
   "source": [
    "### Hamiltonian convention\n",
    "\n",
    "The k-dependent Hamiltonian is read from files in\n",
    "\n",
    "```\n",
    "N_KPOINTS N_WANNIER N_IGNORED\n",
    "kx1 ky1 kz1\n",
    "H_sp0_orb0_sp0_orb0 H_sp0_orb0_sp0_orb1 ...\n",
    "H_sp0_orb1_sp0_orb0 H_sp0_orb1_sp0_orb1 ...\n",
    "...\n",
    "kx2 ky2 kz2\n",
    "...\n",
    "```\n",
    "\n",
    "format with optional spin-dependence (specified in config). Rows/columns are never transposed on the way to Hloc, but orb/sp in each direction are reordered to agree with usual w2dynamics `orb,sp` ordering convention. Hloc is the average over kpoints of the read-in Hamiltonian file, and passed as 1p local Hamiltonian to QMC is (strictly speaking the negation of) `muimp = mu * eye - dc_full - Re(Hloc) - sigma_hartree`.\n",
    "\n",
    "The elements $H_{ij}$ of minus muimp, i.e. QMC muimp, containing a term proportional to the elements of Hloc, are used in QMC as quadratic part of the Hamiltonian\n",
    "$$\n",
    "H = \\sum_{i, j} c^{\\dagger}_i H_{ij} c_j.\n",
    "$$"
   ]
  },
  {
   "cell_type": "markdown",
   "id": "2bcc2b5c-8b45-431f-8aa7-ea15cf2a27af",
   "metadata": {},
   "source": [
    "### U-matrix convention\n",
    "\n",
    "The local interaction matrix is read from files in \n",
    "\n",
    "```\n",
    "N_BANDS BANDS\n",
    "i1 j1 k1 l1 Re(U_i1j1k1l1)\n",
    "i2 j2 k2 l2 Re(U_i2j2k2l2)\n",
    "...\n",
    "```\n",
    "\n",
    "format, for spin-dependent interaction with d/u appended to each index to indicate spin-index 0/1. It is passed to QMC directly, reshaped to 4 flavor dimensions. The elements $U_{ijkl}$ are used in QMC as quartic part of the Hamiltonian\n",
    "$$\n",
    "H = \\frac{1}{2}\\sum_{i,j,k,l} c^{\\dagger}_i c^{\\dagger}_j U_{ijkl} c_l c_k.\n",
    "$$"
   ]
  },
  {
   "cell_type": "markdown",
   "id": "1fc9f356-0029-40ae-a2fa-f769a378a997",
   "metadata": {},
   "source": [
    "#### Matrix element index conventions\n",
    "\n",
    "In our formula for H, the matrix element in terms of the operator as a function of integration variables (in real-space representation) is, cf Schwabl QM2, \n",
    "$$\n",
    "U_{ijkl} = \\int \\mathrm{d}x \\int \\mathrm{d}y \\phi_i^{*}(x) \\phi_j^{*}(y) U(x, y) \\phi_k(x) \\phi_l(y).\n",
    "$$\n",
    "\n",
    "The alternative chemists' notation is\n",
    "$$\n",
    "[ij|kl] = \\int \\mathrm{d}x \\int \\mathrm{d}y \\phi_i^{*}(x) \\phi_j(x) U(x, y) \\phi_k^{*}(y) \\phi_l(y),\n",
    "$$\n",
    "and so $U_{ijkl} = [ik|jl]$."
   ]
  },
  {
   "cell_type": "markdown",
   "id": "5cd16108-944c-44fd-881e-cdf9765beba1",
   "metadata": {},
   "source": [
    "### Rotation convention\n",
    "\n",
    "The rotation matrix is read as simple two-dimensional matrix with imaginary part in every second column from a text file.\n",
    "\n",
    "The rotation is applied to the quadratic part of the Hamiltonian as $H'_{ij} = (R^{\\dagger})_{ik}H_{kl}R_{lj}$, and it fulfills $(R^{\\dagger})_{ij}R_{jk} = R_{ij}(R^{\\dagger})_{jk} = \\delta_{ik}$ (orthogonality / unitarity).\n",
    "\n",
    "In total, the Hamiltonian **operator** may not change, which is compensated by rotation of the creators and annihiltors, so\n",
    "$$\n",
    "H = \\sum_{i, j} c^{\\dagger}_i H_{ij} c_j = \\sum_{i, j, k, l, m, n} c^{\\dagger}_m R_{mi}(R^{\\dagger})_{ik} H_{kl} R_{lj} (R^{\\dagger})_{jn} c_n .\n",
    "$$\n",
    "\n",
    "We derive the transformation of the U matrix elements by applying the same rotation to all occurring creators and annihilators and demanding that the total quartic part of the Hamiltonian operator remains the same, so\n",
    "$$\n",
    "H = \\frac{1}{2} c^{\\dagger}_m R_{mi} c^{\\dagger}_n R_{nj} (R^{\\dagger})_{iw} (R^{\\dagger})_{jx} U_{wxyz} R_{yk} R_{zl} (R^{\\dagger})_{lo} c_o (R^{\\dagger})_{kp} c_p = \\frac{1}{2} c^{\\dagger}_i c^{\\dagger}_j U_{ijkl} c_l c_k.\n",
    "$$\n",
    "and therefore the rotation is applied to the U matrix as\n",
    "$$\n",
    "U'_{ijkl} = (R^{\\dagger})_{iw} (R^{\\dagger})_{jx} U_{wxyz} R_{yk} R_{zl}.\n",
    "$$"
   ]
  },
  {
   "cell_type": "markdown",
   "id": "4af4d597",
   "metadata": {},
   "source": [
    "### Fabrizio's phonons"
   ]
  },
  {
   "cell_type": "code",
   "execution_count": 5,
   "id": "0d985a85",
   "metadata": {},
   "outputs": [],
   "source": [
    "import numpy as np\n",
    "import os,sys"
   ]
  },
  {
   "cell_type": "code",
   "execution_count": 6,
   "id": "6a3514a9",
   "metadata": {},
   "outputs": [],
   "source": [
    "lbd=1\n",
    "alpha22=1\n",
    "NBANDS=4"
   ]
  },
  {
   "cell_type": "code",
   "execution_count": 8,
   "id": "3f9eceed",
   "metadata": {},
   "outputs": [],
   "source": [
    "alpha22=alpha22**2\n",
    "interactionmatrix=np.zeros([NBANDS,2,NBANDS,2,NBANDS,2,NBANDS,2])\n",
    "list_of_indices=np.array([[1,2,4,3],\\\n",
    "                          [2,1,3,4],\\\n",
    "                          [1,3,4,2],\\\n",
    "                          [3,1,2,4],\\\n",
    "                          [2,3,3,2],\\\n",
    "                          [3,2,2,3],\\\n",
    "                          [1,4,4,1],\\\n",
    "                          [4,1,1,4],\\\n",
    "                          [2,4,3,1],\\\n",
    "                          [4,2,1,3],\\\n",
    "                          [3,4,2,1],\\\n",
    "                          [4,3,1,2]])\n",
    "x_coeffs=-1*np.array([-1,-1,-1,-1,-1,-1,-1,-1,-1,-1,-1,-1])\n",
    "y_coeffs=-1*np.array([+1,+1,-1,-1,-1,-1,-1,-1,-1,-1,+1,+1])\n",
    "\n",
    "for iband in range(4):\n",
    "    for jband in range(4):\n",
    "        for kband in range(4):\n",
    "            for lband in range(4):\n",
    "                orbvector=[iband+1,jband+1,kband+1,lband+1]\n",
    "                for itest in range(np.shape(list_of_indices)[0]):\n",
    "\n",
    "                    if np.array_equal(orbvector,list_of_indices[itest]):\n",
    "                        interactionmatrix[iband,0,jband,0,kband,0,lband,0] = -1*lbd*alpha22*(x_coeffs[itest]+(y_coeffs[itest]))\n",
    "                        interactionmatrix[iband,1,jband,1,kband,1,lband,1] = -1*lbd*alpha22*(x_coeffs[itest]+(y_coeffs[itest]))\n",
    "                        break\n",
    "                "
   ]
  },
  {
   "cell_type": "code",
   "execution_count": 9,
   "id": "5a39d7dd",
   "metadata": {},
   "outputs": [],
   "source": [
    "kanamori_umatrix = np.genfromtxt(\"u_matrix_template.dat\",dtype='str')\n",
    "np.shape(kanamori_umatrix)\n",
    "kanamori_umatrix[0:3,:]\n",
    "\n",
    "for iline in range(np.shape(kanamori_umatrix)[0]):\n",
    "    uvalue=float(kanamori_umatrix[iline,8])\n",
    "    iband=int(kanamori_umatrix[iline,0])-1\n",
    "    jband=int(kanamori_umatrix[iline,2])-1\n",
    "    kband=int(kanamori_umatrix[iline,4])-1\n",
    "    lband=int(kanamori_umatrix[iline,6])-1\n",
    "    if kanamori_umatrix[iline,1]==\"u\":\n",
    "        ispin=0\n",
    "    else:\n",
    "        ispin=1\n",
    "    if kanamori_umatrix[iline,3]==\"u\":\n",
    "        jspin=0\n",
    "    else:\n",
    "        jspin=1\n",
    "    if kanamori_umatrix[iline,5]==\"u\":\n",
    "        kspin=0\n",
    "    else:\n",
    "        kspin=1\n",
    "    if kanamori_umatrix[iline,7]==\"u\":\n",
    "        lspin=0\n",
    "    else:\n",
    "        lspin=1\n",
    "    interactionmatrix[iband,ispin,jband,jspin,kband,kspin,lband,lspin] += uvalue"
   ]
  },
  {
   "cell_type": "code",
   "execution_count": 10,
   "id": "038ad8dc",
   "metadata": {},
   "outputs": [],
   "source": [
    "def sud(ispin):\n",
    "    if(ispin)==0:\n",
    "        spinstring=\"u\"\n",
    "    else:\n",
    "        spinstring=\"d\"\n",
    "    return spinstring\n",
    "\n",
    "\n",
    "fname=\"u_matrix.dat\"\n",
    "f=open(fname,'w')\n",
    "f.write(' '.join([str(NBANDS),\"BANDS\"]))\n",
    "f.write(\"\\n\")\n",
    "for iband in range(4):\n",
    "    for ispin in range(2):\n",
    "        for jband in range(4):\n",
    "            for jspin in range(2):\n",
    "                for kband in range(4):\n",
    "                    for kspin in range(2):\n",
    "                        for lband in range(4):\n",
    "                            for lspin in range(2):\n",
    "                                uvalue=interactionmatrix[iband,ispin,jband,jspin,kband,kspin,lband,lspin]\n",
    "                                if abs(uvalue) > 1e-15:\n",
    "                                    orbvector=[str(iband+1),sud(ispin),str(jband+1),sud(jspin),str(kband+1),sud(kspin),str(lband+1),sud(lspin)]\n",
    "                                    for icomp in range(8):\n",
    "                                        f.write(orbvector[icomp])\n",
    "                                        f.write(\" \")\n",
    "                                    f.write(str(uvalue))\n",
    "                                    f.write(\"\\n\")\n",
    "f.close()"
   ]
  },
  {
   "cell_type": "code",
   "execution_count": null,
   "id": "004fc7a2",
   "metadata": {},
   "outputs": [],
   "source": []
  }
 ],
 "metadata": {
  "kernelspec": {
   "display_name": "Python 3 (ipykernel)",
   "language": "python",
   "name": "python3"
  },
  "language_info": {
   "codemirror_mode": {
    "name": "ipython",
    "version": 3
   },
   "file_extension": ".py",
   "mimetype": "text/x-python",
   "name": "python",
   "nbconvert_exporter": "python",
   "pygments_lexer": "ipython3",
   "version": "3.11.7"
  }
 },
 "nbformat": 4,
 "nbformat_minor": 5
}
