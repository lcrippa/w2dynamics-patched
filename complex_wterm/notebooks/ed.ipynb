{
 "cells": [
  {
   "cell_type": "code",
   "execution_count": null,
   "metadata": {},
   "outputs": [],
   "source": [
    "using Fermions\n",
    "using Fermions.Propagators\n",
    "using LinearAlgebra\n",
    "using SparseIR\n",
    "using Plots"
   ]
  },
  {
   "cell_type": "code",
   "execution_count": null,
   "metadata": {},
   "outputs": [],
   "source": [
    "β = 3.0\n",
    "U = 1.3\n",
    "μ = U/2\n",
    "ϵ = [#-9.955627166620991e-01,\n",
    "     -3.631194257431713e-01,\n",
    "     -9.049035188745458e-02,\n",
    "     -3.291563979729537e-10,\n",
    "      9.049035017337467e-02,\n",
    "      3.631194218303095e-01,\n",
    "      #9.955627128494740e-01\n",
    "      ]\n",
    "Vsq = [#0.2443372816032321,\n",
    "      0.1785595949155028,\n",
    "      0.0644602879943168,\n",
    "      0.0240136764257886,\n",
    "      0.0644602872543663,\n",
    "      0.1785595941280526,\n",
    "      #0.2443372834850736\n",
    "      ]\n",
    "V = sqrt.(Vsq)"
   ]
  },
  {
   "cell_type": "code",
   "execution_count": null,
   "metadata": {},
   "outputs": [],
   "source": [
    "ftau(tau::Real) = dot(-Vsq, Propagators.tau_kernel.(tau, -ϵ, β))"
   ]
  },
  {
   "cell_type": "code",
   "execution_count": null,
   "metadata": {},
   "outputs": [],
   "source": [
    "τ = 0:β/100:β\n",
    "plot(τ, ftau.(τ))"
   ]
  },
  {
   "cell_type": "code",
   "execution_count": null,
   "metadata": {},
   "outputs": [],
   "source": [
    "fs = FockSpace(Orbitals(length(V) + 1), FermionicSpin())\n",
    "c = annihilators(fs)\n",
    "n = occupations(fs)\n",
    "↑ = 1 // 2\n",
    "↓ = -1 // 2\n",
    "imp = length(V) + 1"
   ]
  },
  {
   "cell_type": "code",
   "execution_count": null,
   "metadata": {},
   "outputs": [],
   "source": [
    "H = U * n[imp, ↑] * n[imp, ↓] - μ * (n[imp, ↑] + n[imp, ↓])\n",
    "for i in 1:length(V)\n",
    "    for σ in (↑, ↓)\n",
    "        H += ϵ[i] * n[i, σ]\n",
    "        H += V[i] * c[imp, σ]' * c[i, σ]\n",
    "        H += V[i] * c[i, σ]' * c[imp, σ]\n",
    "    end\n",
    "end"
   ]
  },
  {
   "cell_type": "code",
   "execution_count": null,
   "metadata": {},
   "outputs": [],
   "source": [
    "H_eig = HamiltonianEigen(H, NSzSet(fs), β);"
   ]
  },
  {
   "cell_type": "code",
   "execution_count": null,
   "metadata": {},
   "outputs": [],
   "source": [
    "exp_n = only(tau_propagator(c[imp,↑]', c[imp,↑], [0.0], H_eig, β))\n",
    "exp_docc = only(tau_propagator(n[imp,↑], n[imp,↓], [0.0], H_eig, β))\n",
    "exp_zocc = only(tau_propagator(n[imp,↑] - 0.5*I, n[imp,↓] - 0.5*I, [0.0], H_eig, β)) + 0.25\n",
    "@show exp_n, exp_docc, exp_xocc;"
   ]
  },
  {
   "cell_type": "code",
   "execution_count": null,
   "metadata": {},
   "outputs": [],
   "source": [
    "²"
   ]
  }
 ],
 "metadata": {
  "kernelspec": {
   "display_name": "Julia 1.10.4",
   "language": "julia",
   "name": "julia-1.10"
  },
  "language_info": {
   "file_extension": ".jl",
   "mimetype": "application/julia",
   "name": "julia",
   "version": "1.11.3"
  }
 },
 "nbformat": 4,
 "nbformat_minor": 2
}
